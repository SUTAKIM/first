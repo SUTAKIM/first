{
  "nbformat": 4,
  "nbformat_minor": 0,
  "metadata": {
    "colab": {
      "provenance": [],
      "authorship_tag": "ABX9TyOzs5wcDpx9u4OIByZYyR7s",
      "include_colab_link": true
    },
    "kernelspec": {
      "name": "python3",
      "display_name": "Python 3"
    },
    "language_info": {
      "name": "python"
    }
  },
  "cells": [
    {
      "cell_type": "markdown",
      "metadata": {
        "id": "view-in-github",
        "colab_type": "text"
      },
      "source": [
        "<a href=\"https://colab.research.google.com/github/SUTAKIM/first/blob/main/Untitled0.ipynb\" target=\"_parent\"><img src=\"https://colab.research.google.com/assets/colab-badge.svg\" alt=\"Open In Colab\"/></a>"
      ]
    },
    {
      "cell_type": "code",
      "execution_count": 4,
      "metadata": {
        "colab": {
          "base_uri": "https://localhost:8080/"
        },
        "id": "d1Pr7jc57TlJ",
        "outputId": "3b24a643-b3b2-40e6-985e-4f8fd8ddc6e8"
      },
      "outputs": [
        {
          "output_type": "stream",
          "name": "stdout",
          "text": [
            "아바타\n",
            "타이타닉\n",
            "스타워즈\n",
            "주라기 월드\n",
            "어벤져스\n"
          ]
        }
      ],
      "source": [
        "movie_list = [\"아바타\",\"타이타닉\", \"스타워즈\",\"주라기 월드\",\"어벤져스\"]\n",
        "print(movie_list[0])\n",
        "print(movie_list[1])\n",
        "print(movie_list[2])\n",
        "print(movie_list[3])\n",
        "print(movie_list[4])"
      ]
    }
  ]
}